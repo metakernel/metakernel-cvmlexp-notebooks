{
 "cells": [
  {
   "cell_type": "markdown",
   "id": "e3fb9a72",
   "metadata": {},
   "source": [
    "# Welcome to my Deep Learning Notebook!\n",
    "In this notbook i explore some deep learning concepts and packages such as Tensorflow, Keras, Scikit-Learn and others.\n"
   ]
  },
  {
   "cell_type": "code",
   "execution_count": null,
   "id": "d62f5b68",
   "metadata": {},
   "outputs": [],
   "source": [
    "import tensorflow as tf\n",
    "from keras import layers, models"
   ]
  }
 ],
 "metadata": {
  "kernelspec": {
   "display_name": ".venv",
   "language": "python",
   "name": "python3"
  },
  "language_info": {
   "codemirror_mode": {
    "name": "ipython",
    "version": 3
   },
   "file_extension": ".py",
   "mimetype": "text/x-python",
   "name": "python",
   "nbconvert_exporter": "python",
   "pygments_lexer": "ipython3",
   "version": "3.12.3"
  }
 },
 "nbformat": 4,
 "nbformat_minor": 5
}
